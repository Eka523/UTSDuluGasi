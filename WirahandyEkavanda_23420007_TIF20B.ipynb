{
  "nbformat": 4,
  "nbformat_minor": 0,
  "metadata": {
    "colab": {
      "provenance": [],
      "authorship_tag": "ABX9TyP69mfQXYNiX7L4LCMQR3lf",
      "include_colab_link": true
    },
    "kernelspec": {
      "name": "python3",
      "display_name": "Python 3"
    },
    "language_info": {
      "name": "python"
    }
  },
  "cells": [
    {
      "cell_type": "markdown",
      "metadata": {
        "id": "view-in-github",
        "colab_type": "text"
      },
      "source": [
        "<a href=\"https://colab.research.google.com/github/AlfinHeck/wira/blob/main/WirahandyEkavanda_23420007_TIF20B.ipynb\" target=\"_parent\"><img src=\"https://colab.research.google.com/assets/colab-badge.svg\" alt=\"Open In Colab\"/></a>"
      ]
    },
    {
      "cell_type": "code",
      "execution_count": null,
      "metadata": {
        "id": "vCcLmwWq8XnT"
      },
      "outputs": [],
      "source": [
        "import matplotlib as plt\n",
        "from sklearn.datasets import make_blobs\n",
        "from sklearn.cluster import KMeans\n",
        "from sklearn.metrics import silhouette_score\n",
        "from sklearn.preprocessing import StandardScaler"
      ]
    },
    {
      "cell_type": "code",
      "source": [
        "features, true_label = make_blobs(\n",
        "    n_samples=700,\n",
        "    centers=5,\n",
        "    cluster_std=2.75,\n",
        "    random_state=42\n",
        ")"
      ],
      "metadata": {
        "id": "3G8W4M_Y8ipE"
      },
      "execution_count": null,
      "outputs": []
    },
    {
      "cell_type": "code",
      "source": [
        "features[:10]"
      ],
      "metadata": {
        "colab": {
          "base_uri": "https://localhost:8080/"
        },
        "id": "9orwTdaO8jnq",
        "outputId": "efe7b617-9145-49c1-bfb3-d9e121b37aa1"
      },
      "execution_count": null,
      "outputs": [
        {
          "output_type": "execute_result",
          "data": {
            "text/plain": [
              "array([[  3.98277171,  -0.52263039],\n",
              "       [-10.5871371 ,  -4.83613333],\n",
              "       [  1.21118862,   7.59274226],\n",
              "       [ -1.19551059,  -0.79399465],\n",
              "       [  9.11857159,  -1.82210933],\n",
              "       [ -1.84380138,   3.75276546],\n",
              "       [ -6.03317233, -11.58307267],\n",
              "       [  6.51524951,   1.1199361 ],\n",
              "       [  0.11430723,  10.80561207],\n",
              "       [  1.00923752,   7.00968129]])"
            ]
          },
          "metadata": {},
          "execution_count": 17
        }
      ]
    },
    {
      "cell_type": "code",
      "source": [
        "true_label[:200]"
      ],
      "metadata": {
        "colab": {
          "base_uri": "https://localhost:8080/"
        },
        "id": "-LvRNwBZ8mUL",
        "outputId": "c318bc61-c836-4c06-97b4-61e85fd61aa3"
      },
      "execution_count": null,
      "outputs": [
        {
          "output_type": "execute_result",
          "data": {
            "text/plain": [
              "array([1, 2, 4, 4, 1, 0, 2, 1, 0, 1, 2, 1, 3, 1, 4, 0, 4, 1, 3, 3, 4, 2,\n",
              "       4, 2, 2, 4, 2, 3, 2, 2, 2, 3, 0, 0, 2, 2, 3, 4, 1, 4, 1, 3, 3, 3,\n",
              "       0, 4, 3, 0, 0, 2, 1, 0, 2, 2, 1, 4, 4, 3, 1, 1, 3, 1, 1, 4, 4, 4,\n",
              "       4, 4, 4, 0, 0, 1, 3, 4, 2, 0, 2, 0, 4, 1, 3, 4, 3, 1, 0, 2, 3, 3,\n",
              "       1, 2, 1, 2, 2, 3, 4, 4, 4, 4, 1, 3, 2, 2, 1, 2, 3, 1, 0, 4, 4, 0,\n",
              "       4, 2, 2, 0, 3, 4, 3, 1, 1, 3, 3, 4, 0, 3, 2, 4, 4, 0, 3, 4, 0, 4,\n",
              "       2, 2, 0, 3, 3, 2, 0, 2, 3, 2, 0, 1, 3, 3, 4, 4, 3, 0, 2, 2, 3, 3,\n",
              "       1, 0, 1, 2, 0, 1, 0, 0, 1, 3, 2, 1, 2, 1, 3, 0, 4, 2, 0, 2, 0, 1,\n",
              "       4, 3, 1, 1, 1, 0, 0, 2, 2, 2, 2, 4, 4, 1, 2, 3, 3, 3, 4, 1, 0, 1,\n",
              "       2, 4])"
            ]
          },
          "metadata": {},
          "execution_count": 18
        }
      ]
    },
    {
      "cell_type": "code",
      "source": [
        "standard_skala = StandardScaler()\n",
        "skala_fitur = standard_skala.fit_transform(features)"
      ],
      "metadata": {
        "id": "DkiV401p8usi"
      },
      "execution_count": null,
      "outputs": []
    },
    {
      "cell_type": "code",
      "source": [
        "skala_fitur[:10]"
      ],
      "metadata": {
        "colab": {
          "base_uri": "https://localhost:8080/"
        },
        "id": "lvoUM3Kx8yfh",
        "outputId": "6c7aade6-9aea-4e2f-a73e-b9c10f23ae85"
      },
      "execution_count": null,
      "outputs": [
        {
          "output_type": "execute_result",
          "data": {
            "text/plain": [
              "array([[ 1.10798413, -0.6007521 ],\n",
              "       [-1.49423098, -1.29668463],\n",
              "       [ 0.6129738 ,  0.70856701],\n",
              "       [ 0.18313246, -0.6445335 ],\n",
              "       [ 2.02524835, -0.81040761],\n",
              "       [ 0.06734642,  0.0890323 ],\n",
              "       [-0.68088368, -2.38522326],\n",
              "       [ 1.56028977, -0.33574348],\n",
              "       [ 0.41706857,  1.22692544],\n",
              "       [ 0.57690492,  0.61449704]])"
            ]
          },
          "metadata": {},
          "execution_count": 20
        }
      ]
    },
    {
      "cell_type": "code",
      "source": [
        "metode_kmeans = KMeans(\n",
        "    init=\"random\", \n",
        "    n_clusters=7, \n",
        "    n_init=10, \n",
        "    max_iter=100, \n",
        "    random_state=41\n",
        "    )"
      ],
      "metadata": {
        "id": "zOduz7a_83yK"
      },
      "execution_count": null,
      "outputs": []
    },
    {
      "cell_type": "code",
      "source": [
        "metode_kmeans.fit(skala_fitur)"
      ],
      "metadata": {
        "colab": {
          "base_uri": "https://localhost:8080/",
          "height": 74
        },
        "id": "PD3-mCAV87ve",
        "outputId": "851ba813-c706-4536-ed21-b7287f666e2d"
      },
      "execution_count": null,
      "outputs": [
        {
          "output_type": "execute_result",
          "data": {
            "text/plain": [
              "KMeans(init='random', max_iter=100, n_clusters=7, n_init=10, random_state=41)"
            ],
            "text/html": [
              "<style>#sk-container-id-2 {color: black;background-color: white;}#sk-container-id-2 pre{padding: 0;}#sk-container-id-2 div.sk-toggleable {background-color: white;}#sk-container-id-2 label.sk-toggleable__label {cursor: pointer;display: block;width: 100%;margin-bottom: 0;padding: 0.3em;box-sizing: border-box;text-align: center;}#sk-container-id-2 label.sk-toggleable__label-arrow:before {content: \"▸\";float: left;margin-right: 0.25em;color: #696969;}#sk-container-id-2 label.sk-toggleable__label-arrow:hover:before {color: black;}#sk-container-id-2 div.sk-estimator:hover label.sk-toggleable__label-arrow:before {color: black;}#sk-container-id-2 div.sk-toggleable__content {max-height: 0;max-width: 0;overflow: hidden;text-align: left;background-color: #f0f8ff;}#sk-container-id-2 div.sk-toggleable__content pre {margin: 0.2em;color: black;border-radius: 0.25em;background-color: #f0f8ff;}#sk-container-id-2 input.sk-toggleable__control:checked~div.sk-toggleable__content {max-height: 200px;max-width: 100%;overflow: auto;}#sk-container-id-2 input.sk-toggleable__control:checked~label.sk-toggleable__label-arrow:before {content: \"▾\";}#sk-container-id-2 div.sk-estimator input.sk-toggleable__control:checked~label.sk-toggleable__label {background-color: #d4ebff;}#sk-container-id-2 div.sk-label input.sk-toggleable__control:checked~label.sk-toggleable__label {background-color: #d4ebff;}#sk-container-id-2 input.sk-hidden--visually {border: 0;clip: rect(1px 1px 1px 1px);clip: rect(1px, 1px, 1px, 1px);height: 1px;margin: -1px;overflow: hidden;padding: 0;position: absolute;width: 1px;}#sk-container-id-2 div.sk-estimator {font-family: monospace;background-color: #f0f8ff;border: 1px dotted black;border-radius: 0.25em;box-sizing: border-box;margin-bottom: 0.5em;}#sk-container-id-2 div.sk-estimator:hover {background-color: #d4ebff;}#sk-container-id-2 div.sk-parallel-item::after {content: \"\";width: 100%;border-bottom: 1px solid gray;flex-grow: 1;}#sk-container-id-2 div.sk-label:hover label.sk-toggleable__label {background-color: #d4ebff;}#sk-container-id-2 div.sk-serial::before {content: \"\";position: absolute;border-left: 1px solid gray;box-sizing: border-box;top: 0;bottom: 0;left: 50%;z-index: 0;}#sk-container-id-2 div.sk-serial {display: flex;flex-direction: column;align-items: center;background-color: white;padding-right: 0.2em;padding-left: 0.2em;position: relative;}#sk-container-id-2 div.sk-item {position: relative;z-index: 1;}#sk-container-id-2 div.sk-parallel {display: flex;align-items: stretch;justify-content: center;background-color: white;position: relative;}#sk-container-id-2 div.sk-item::before, #sk-container-id-2 div.sk-parallel-item::before {content: \"\";position: absolute;border-left: 1px solid gray;box-sizing: border-box;top: 0;bottom: 0;left: 50%;z-index: -1;}#sk-container-id-2 div.sk-parallel-item {display: flex;flex-direction: column;z-index: 1;position: relative;background-color: white;}#sk-container-id-2 div.sk-parallel-item:first-child::after {align-self: flex-end;width: 50%;}#sk-container-id-2 div.sk-parallel-item:last-child::after {align-self: flex-start;width: 50%;}#sk-container-id-2 div.sk-parallel-item:only-child::after {width: 0;}#sk-container-id-2 div.sk-dashed-wrapped {border: 1px dashed gray;margin: 0 0.4em 0.5em 0.4em;box-sizing: border-box;padding-bottom: 0.4em;background-color: white;}#sk-container-id-2 div.sk-label label {font-family: monospace;font-weight: bold;display: inline-block;line-height: 1.2em;}#sk-container-id-2 div.sk-label-container {text-align: center;}#sk-container-id-2 div.sk-container {/* jupyter's `normalize.less` sets `[hidden] { display: none; }` but bootstrap.min.css set `[hidden] { display: none !important; }` so we also need the `!important` here to be able to override the default hidden behavior on the sphinx rendered scikit-learn.org. See: https://github.com/scikit-learn/scikit-learn/issues/21755 */display: inline-block !important;position: relative;}#sk-container-id-2 div.sk-text-repr-fallback {display: none;}</style><div id=\"sk-container-id-2\" class=\"sk-top-container\"><div class=\"sk-text-repr-fallback\"><pre>KMeans(init=&#x27;random&#x27;, max_iter=100, n_clusters=7, n_init=10, random_state=41)</pre><b>In a Jupyter environment, please rerun this cell to show the HTML representation or trust the notebook. <br />On GitHub, the HTML representation is unable to render, please try loading this page with nbviewer.org.</b></div><div class=\"sk-container\" hidden><div class=\"sk-item\"><div class=\"sk-estimator sk-toggleable\"><input class=\"sk-toggleable__control sk-hidden--visually\" id=\"sk-estimator-id-2\" type=\"checkbox\" checked><label for=\"sk-estimator-id-2\" class=\"sk-toggleable__label sk-toggleable__label-arrow\">KMeans</label><div class=\"sk-toggleable__content\"><pre>KMeans(init=&#x27;random&#x27;, max_iter=100, n_clusters=7, n_init=10, random_state=41)</pre></div></div></div></div></div>"
            ]
          },
          "metadata": {},
          "execution_count": 22
        }
      ]
    },
    {
      "cell_type": "code",
      "source": [
        "metode_kmeans.inertia_"
      ],
      "metadata": {
        "colab": {
          "base_uri": "https://localhost:8080/"
        },
        "id": "hg0kUgUD9AQZ",
        "outputId": "1dab8dd9-ddc0-49af-ee8d-e5d00c8272b7"
      },
      "execution_count": null,
      "outputs": [
        {
          "output_type": "execute_result",
          "data": {
            "text/plain": [
              "173.38572504292233"
            ]
          },
          "metadata": {},
          "execution_count": 23
        }
      ]
    },
    {
      "cell_type": "code",
      "source": [
        "metode_kmeans.cluster_centers_"
      ],
      "metadata": {
        "colab": {
          "base_uri": "https://localhost:8080/"
        },
        "id": "VQSqDc6G9Dpc",
        "outputId": "802db188-450a-4104-f261-3254388ce04a"
      },
      "execution_count": null,
      "outputs": [
        {
          "output_type": "execute_result",
          "data": {
            "text/plain": [
              "array([[ 0.58123257, -0.55648844],\n",
              "       [-0.15153594,  0.99960984],\n",
              "       [-1.10639116, -1.0246855 ],\n",
              "       [-0.76393586, -1.87576366],\n",
              "       [ 0.72230248,  0.39843148],\n",
              "       [-1.14332814,  0.74120203],\n",
              "       [ 1.51217497, -0.199303  ]])"
            ]
          },
          "metadata": {},
          "execution_count": 24
        }
      ]
    },
    {
      "cell_type": "code",
      "source": [
        "metode_kmeans.n_iter_"
      ],
      "metadata": {
        "colab": {
          "base_uri": "https://localhost:8080/"
        },
        "id": "HsGIGlZ09Ivk",
        "outputId": "58a11125-a88a-4850-9bc6-a1016f14ab37"
      },
      "execution_count": null,
      "outputs": [
        {
          "output_type": "execute_result",
          "data": {
            "text/plain": [
              "19"
            ]
          },
          "metadata": {},
          "execution_count": 25
        }
      ]
    },
    {
      "cell_type": "code",
      "source": [
        "metode_kmeans.labels_"
      ],
      "metadata": {
        "colab": {
          "base_uri": "https://localhost:8080/"
        },
        "id": "BnNt2Ebb9NH3",
        "outputId": "c824596d-c0c2-4f0b-ad76-6157c35c303b"
      },
      "execution_count": null,
      "outputs": [
        {
          "output_type": "execute_result",
          "data": {
            "text/plain": [
              "array([0, 2, 4, 0, 6, 4, 3, 6, 1, 4, 3, 6, 5, 4, 4, 1, 4, 0, 1, 5, 1, 3,\n",
              "       4, 3, 2, 6, 3, 5, 3, 3, 0, 5, 1, 1, 2, 3, 5, 4, 4, 6, 6, 5, 5, 5,\n",
              "       4, 4, 5, 1, 1, 2, 6, 1, 0, 2, 6, 0, 4, 5, 6, 4, 5, 6, 6, 6, 6, 4,\n",
              "       6, 0, 4, 1, 1, 0, 5, 4, 3, 4, 3, 1, 4, 6, 5, 4, 1, 6, 1, 2, 5, 5,\n",
              "       6, 3, 6, 3, 3, 2, 6, 0, 4, 4, 6, 5, 3, 3, 6, 3, 5, 0, 1, 6, 0, 1,\n",
              "       4, 0, 3, 1, 1, 4, 5, 6, 6, 5, 1, 1, 1, 5, 3, 4, 6, 1, 5, 4, 1, 0,\n",
              "       0, 2, 1, 5, 5, 3, 1, 3, 1, 2, 5, 0, 5, 5, 4, 1, 5, 1, 2, 2, 5, 5,\n",
              "       6, 1, 6, 2, 5, 4, 1, 1, 4, 5, 3, 6, 2, 0, 5, 4, 4, 3, 1, 2, 1, 6,\n",
              "       4, 5, 0, 6, 6, 1, 1, 3, 3, 3, 2, 4, 6, 0, 2, 5, 5, 5, 6, 0, 1, 6,\n",
              "       3, 6, 4, 3, 5, 0, 3, 2, 0, 6, 0, 5, 3, 6, 1, 3, 1, 4, 6, 6, 5, 1,\n",
              "       6, 6, 2, 2, 4, 3, 0, 0, 6, 6, 5, 1, 6, 6, 5, 0, 1, 2, 5, 6, 2, 5,\n",
              "       5, 5, 0, 1, 4, 3, 5, 2, 0, 1, 4, 1, 4, 1, 4, 1, 6, 3, 4, 1, 5, 6,\n",
              "       5, 6, 1, 3, 6, 4, 2, 0, 0, 3, 1, 5, 1, 0, 0, 2, 4, 4, 0, 3, 6, 1,\n",
              "       2, 0, 6, 1, 4, 1, 5, 5, 0, 4, 5, 5, 1, 5, 5, 0, 5, 4, 0, 0, 1, 2,\n",
              "       5, 6, 4, 3, 1, 5, 1, 4, 0, 0, 6, 3, 1, 4, 4, 4, 6, 0, 1, 1, 1, 6,\n",
              "       0, 1, 5, 6, 6, 2, 0, 5, 1, 6, 3, 6, 1, 1, 1, 5, 5, 1, 3, 1, 3, 4,\n",
              "       6, 5, 1, 1, 4, 1, 5, 0, 5, 6, 5, 1, 4, 4, 1, 6, 5, 6, 4, 5, 1, 1,\n",
              "       3, 3, 5, 5, 4, 4, 3, 6, 5, 3, 0, 2, 4, 1, 1, 1, 4, 2, 1, 3, 5, 1,\n",
              "       1, 6, 2, 6, 1, 5, 2, 5, 1, 5, 1, 3, 1, 3, 2, 5, 2, 5, 6, 3, 5, 3,\n",
              "       4, 3, 3, 2, 0, 0, 4, 1, 1, 1, 5, 1, 0, 5, 6, 3, 2, 6, 5, 6, 4, 2,\n",
              "       4, 6, 4, 4, 4, 5, 1, 5, 4, 2, 6, 4, 4, 5, 3, 0, 2, 1, 4, 6, 4, 2,\n",
              "       3, 4, 5, 6, 0, 5, 4, 5, 4, 2, 1, 6, 5, 5, 6, 3, 6, 2, 2, 1, 5, 3,\n",
              "       4, 4, 4, 4, 4, 1, 1, 0, 5, 3, 3, 6, 6, 3, 3, 1, 3, 0, 4, 3, 5, 3,\n",
              "       1, 1, 5, 1, 4, 3, 0, 1, 1, 2, 0, 5, 4, 4, 4, 5, 5, 3, 1, 4, 4, 4,\n",
              "       3, 5, 0, 6, 3, 6, 1, 3, 5, 5, 6, 5, 5, 4, 4, 2, 5, 4, 1, 1, 5, 1,\n",
              "       1, 2, 1, 3, 1, 6, 0, 6, 0, 4, 1, 2, 4, 5, 0, 5, 6, 0, 4, 4, 0, 4,\n",
              "       6, 4, 1, 6, 6, 1, 0, 4, 2, 4, 1, 6, 5, 1, 3, 1, 2, 4, 6, 1, 4, 3,\n",
              "       6, 5, 3, 1, 1, 4, 0, 4, 2, 1, 5, 5, 0, 5, 1, 5, 6, 6, 1, 4, 6, 3,\n",
              "       1, 1, 6, 5, 3, 3, 4, 1, 3, 1, 5, 5, 2, 5, 6, 1, 1, 1, 2, 0, 4, 4,\n",
              "       3, 5, 2, 4, 5, 5, 5, 3, 6, 4, 6, 4, 6, 4, 0, 3, 3, 4, 3, 4, 5, 4,\n",
              "       1, 1, 4, 4, 5, 1, 1, 5, 4, 4, 3, 4, 5, 6, 4, 6, 3, 6, 5, 5, 0, 0,\n",
              "       2, 2, 6, 2, 5, 4, 4, 6, 3, 4, 5, 0, 6, 6, 4, 4, 3, 4], dtype=int32)"
            ]
          },
          "metadata": {},
          "execution_count": 26
        }
      ]
    },
    {
      "cell_type": "code",
      "source": [
        "import numpy as np\n",
        "import matplotlib.pyplot as plt\n",
        "import pandas as pd\n",
        "\n"
      ],
      "metadata": {
        "id": "EIiNcDcu9SWG"
      },
      "execution_count": null,
      "outputs": []
    },
    {
      "cell_type": "code",
      "source": [
        "color = np.array([\"Red\",\"Green\",\"Blue\",\"yellow\",\"brown\",\"purple\",\"black\"])\n",
        "plt.subplot(1,2,2)\n",
        "plt.scatter(skala_fitur[:,0], skala_fitur[:,1], s=50, alpha=1, cmap='viridis', c=color[metode_kmeans.labels_])"
      ],
      "metadata": {
        "colab": {
          "base_uri": "https://localhost:8080/",
          "height": 485
        },
        "id": "Mp05T1-O9YYU",
        "outputId": "3f68f2a7-5f26-47b4-a119-ee81a615289d"
      },
      "execution_count": null,
      "outputs": [
        {
          "output_type": "stream",
          "name": "stderr",
          "text": [
            "<ipython-input-29-84a075631317>:3: UserWarning: No data for colormapping provided via 'c'. Parameters 'cmap' will be ignored\n",
            "  plt.scatter(skala_fitur[:,0], skala_fitur[:,1], s=50, alpha=1, cmap='viridis', c=color[metode_kmeans.labels_])\n"
          ]
        },
        {
          "output_type": "execute_result",
          "data": {
            "text/plain": [
              "<matplotlib.collections.PathCollection at 0x7fcfca9e7790>"
            ]
          },
          "metadata": {},
          "execution_count": 29
        },
        {
          "output_type": "display_data",
          "data": {
            "text/plain": [
              "<Figure size 640x480 with 1 Axes>"
            ],
            "image/png": "[encoded data removed]"
          },
          "metadata": {}
        }
      ]
    }
  ]
}